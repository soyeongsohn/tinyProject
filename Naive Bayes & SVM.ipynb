{
 "cells": [
  {
   "cell_type": "markdown",
   "id": "ffc6adce",
   "metadata": {},
   "source": [
    "# 1. Naive Bayes Classification (나이브 베이즈 분류)"
   ]
  },
  {
   "cell_type": "markdown",
   "id": "b8f74e0a",
   "metadata": {},
   "source": [
    "## 1-1. Bayes Theorem (베이즈 정리)"
   ]
  },
  {
   "cell_type": "markdown",
   "id": "cfaea0a9",
   "metadata": {},
   "source": [
    "<img align=\"center\" width=\"300\" height=\"200\" src=\"https://miro.medium.com/max/666/1*Pybqu8ks-6uNp2VrKQ-cGA.png\">\n",
    "<br/>\n",
    "A: 원인, B: 결과<br/>\n",
    "<br/>\n",
    "\n",
    "- 사전확률과 사후확률 사이의 관계를 나타내는 정리\n",
    "- 새로운 정보를 토대로 어떤 사건이 발생했다는 주장에 대한 신뢰도를 갱신해 나가는 방법\n",
    "- 즉, '어떤 사건 A가 일어났다고 가정할 때 B라는 자료를 얻게 될 확률'에 대한 정보만 알고 있다면, 자료에 근거해 어떤 사건이 일어날 확률을 새로 계산할 수 있다는 뜻\n",
    "\n",
    "\\<ex> <br/>\n",
    "- 어떤 사람이 병에 걸렸다고 진단 받았을 때, 진짜 병에 걸렸을 확률 <br/>\n",
    "$\\rightarrow$ A: 병에 걸림, B: 병에 걸렸다고 진단 받음"
   ]
  },
  {
   "cell_type": "markdown",
   "id": "7a9921f3",
   "metadata": {},
   "source": [
    "## 1-2. Naive Bayes Algorithm"
   ]
  },
  {
   "cell_type": "markdown",
   "id": "f8e9808c",
   "metadata": {},
   "source": [
    "- 지도학습\n",
    "- 데이터가 각 클래스에 속할 확률을 계산하는 조건부 확률 기반의 분류 방법 <br/>\n",
    "- Naive한 가정: 사건들이 상호 <b>독립적</b> 이라고 가정, 모든 변수들이 동등함 <br/>\n",
    "<br/>\n",
    "$P(A|B_1 \\cap B_2\\cap \\ldots \\cap B_n) = P(B_1|A)P(B_2|A) \\ldots P(B_n|A)P(A) = P(A) \\Pi_{i=1}^{n}P(B_i|A)$\n",
    "<br/><br/>\n",
    "독립성을 가정하면서 식이 비교적 간단해짐 == 모형이 단순해짐"
   ]
  },
  {
   "cell_type": "markdown",
   "id": "c7ba3126",
   "metadata": {},
   "source": [
    "## 1-3. 장단점"
   ]
  },
  {
   "cell_type": "markdown",
   "id": "22b76eb5",
   "metadata": {},
   "source": [
    "### 장점"
   ]
  },
  {
   "cell_type": "markdown",
   "id": "b1737da8",
   "metadata": {},
   "source": [
    "- 간단하고 빠르며 효율적이다\n",
    "- 노이즈와 결측치를 잘 처리한다\n",
    "- train 시 데이터의 크기와 상관 없이 잘 동작한다\n",
    "- 예측을 위한 추정 확률을 쉽게 얻을 수 있다."
   ]
  },
  {
   "cell_type": "markdown",
   "id": "f06ff739",
   "metadata": {},
   "source": [
    "### 단점"
   ]
  },
  {
   "cell_type": "markdown",
   "id": "63ec3d8f",
   "metadata": {},
   "source": [
    "- 현실 데이터에는 \"모든 feature의 중요성이 동등하고, 독립이다\"라는 가정이 잘못된 경우가 훨씬 많다.\n",
    "- numeric feature가 많은 데이터셋에는 이상적이지 않다.\n",
    "- 추정된 확률이 예측된 클래스보다 덜 신뢰할만하다."
   ]
  },
  {
   "cell_type": "markdown",
   "id": "7bf3edca",
   "metadata": {},
   "source": [
    "## 1-4. 보정"
   ]
  },
  {
   "cell_type": "markdown",
   "id": "380fef60",
   "metadata": {},
   "source": [
    "### Laplace Smoothing (라플라스 스무딩)"
   ]
  },
  {
   "cell_type": "markdown",
   "id": "a14ec841",
   "metadata": {},
   "source": [
    "조건부 확률이 하나라도 0이라면 전체 확률이 0이 되는 상황이 발생함 <br/>\n",
    "이럴 경우 값을 보정하기 위해 실제 관찰한 것보다 한 번씩 더 봤다고 가정하는 것이 라플라스 스무딩 기법 <br/>\n",
    "즉, 확률이 0일 경우를 제외시키는 방법 <br/>\n",
    "<br/>\n",
    "$P_{LAP} = \\frac{c(x)+1}{\\Sigma x[c(x)+1]}$"
   ]
  },
  {
   "cell_type": "markdown",
   "id": "cb48c2ae",
   "metadata": {},
   "source": [
    "### Underflow 방지"
   ]
  },
  {
   "cell_type": "markdown",
   "id": "34edd27c",
   "metadata": {},
   "source": [
    "특정 확률이 0에 가까워질 수 있는 경우 확률에 로그를 취함으로써 언더플로우를 방지 <br/>\n",
    "<br/>\n",
    "$log[P(A|B)] = log[P(B|A)P(A)/P(B)]$"
   ]
  },
  {
   "cell_type": "markdown",
   "id": "bfe5bf3f",
   "metadata": {},
   "source": [
    "## 1-5. 예제"
   ]
  },
  {
   "cell_type": "code",
   "execution_count": 2,
   "id": "ab403fb7",
   "metadata": {},
   "outputs": [],
   "source": [
    "# import libraries\n",
    "import pandas as pd\n",
    "from sklearn.datasets import load_breast_cancer\n",
    "from sklearn.model_selection import train_test_split\n",
    "from sklearn.naive_bayes import GaussianNB # 나이브 베이즈 모델 중 가우시안 모델 사용\n",
    "from sklearn.metrics import accuracy_score"
   ]
  },
  {
   "cell_type": "code",
   "execution_count": 3,
   "id": "d18ee8c8",
   "metadata": {},
   "outputs": [
    {
     "data": {
      "text/html": [
       "<div>\n",
       "<style scoped>\n",
       "    .dataframe tbody tr th:only-of-type {\n",
       "        vertical-align: middle;\n",
       "    }\n",
       "\n",
       "    .dataframe tbody tr th {\n",
       "        vertical-align: top;\n",
       "    }\n",
       "\n",
       "    .dataframe thead th {\n",
       "        text-align: right;\n",
       "    }\n",
       "</style>\n",
       "<table border=\"1\" class=\"dataframe\">\n",
       "  <thead>\n",
       "    <tr style=\"text-align: right;\">\n",
       "      <th></th>\n",
       "      <th>mean radius</th>\n",
       "      <th>mean texture</th>\n",
       "      <th>mean perimeter</th>\n",
       "      <th>mean area</th>\n",
       "      <th>mean smoothness</th>\n",
       "      <th>mean compactness</th>\n",
       "      <th>mean concavity</th>\n",
       "      <th>mean concave points</th>\n",
       "      <th>mean symmetry</th>\n",
       "      <th>mean fractal dimension</th>\n",
       "      <th>...</th>\n",
       "      <th>worst texture</th>\n",
       "      <th>worst perimeter</th>\n",
       "      <th>worst area</th>\n",
       "      <th>worst smoothness</th>\n",
       "      <th>worst compactness</th>\n",
       "      <th>worst concavity</th>\n",
       "      <th>worst concave points</th>\n",
       "      <th>worst symmetry</th>\n",
       "      <th>worst fractal dimension</th>\n",
       "      <th>target</th>\n",
       "    </tr>\n",
       "  </thead>\n",
       "  <tbody>\n",
       "    <tr>\n",
       "      <th>0</th>\n",
       "      <td>17.99</td>\n",
       "      <td>10.38</td>\n",
       "      <td>122.80</td>\n",
       "      <td>1001.0</td>\n",
       "      <td>0.11840</td>\n",
       "      <td>0.27760</td>\n",
       "      <td>0.3001</td>\n",
       "      <td>0.14710</td>\n",
       "      <td>0.2419</td>\n",
       "      <td>0.07871</td>\n",
       "      <td>...</td>\n",
       "      <td>17.33</td>\n",
       "      <td>184.60</td>\n",
       "      <td>2019.0</td>\n",
       "      <td>0.1622</td>\n",
       "      <td>0.6656</td>\n",
       "      <td>0.7119</td>\n",
       "      <td>0.2654</td>\n",
       "      <td>0.4601</td>\n",
       "      <td>0.11890</td>\n",
       "      <td>0</td>\n",
       "    </tr>\n",
       "    <tr>\n",
       "      <th>1</th>\n",
       "      <td>20.57</td>\n",
       "      <td>17.77</td>\n",
       "      <td>132.90</td>\n",
       "      <td>1326.0</td>\n",
       "      <td>0.08474</td>\n",
       "      <td>0.07864</td>\n",
       "      <td>0.0869</td>\n",
       "      <td>0.07017</td>\n",
       "      <td>0.1812</td>\n",
       "      <td>0.05667</td>\n",
       "      <td>...</td>\n",
       "      <td>23.41</td>\n",
       "      <td>158.80</td>\n",
       "      <td>1956.0</td>\n",
       "      <td>0.1238</td>\n",
       "      <td>0.1866</td>\n",
       "      <td>0.2416</td>\n",
       "      <td>0.1860</td>\n",
       "      <td>0.2750</td>\n",
       "      <td>0.08902</td>\n",
       "      <td>0</td>\n",
       "    </tr>\n",
       "    <tr>\n",
       "      <th>2</th>\n",
       "      <td>19.69</td>\n",
       "      <td>21.25</td>\n",
       "      <td>130.00</td>\n",
       "      <td>1203.0</td>\n",
       "      <td>0.10960</td>\n",
       "      <td>0.15990</td>\n",
       "      <td>0.1974</td>\n",
       "      <td>0.12790</td>\n",
       "      <td>0.2069</td>\n",
       "      <td>0.05999</td>\n",
       "      <td>...</td>\n",
       "      <td>25.53</td>\n",
       "      <td>152.50</td>\n",
       "      <td>1709.0</td>\n",
       "      <td>0.1444</td>\n",
       "      <td>0.4245</td>\n",
       "      <td>0.4504</td>\n",
       "      <td>0.2430</td>\n",
       "      <td>0.3613</td>\n",
       "      <td>0.08758</td>\n",
       "      <td>0</td>\n",
       "    </tr>\n",
       "    <tr>\n",
       "      <th>3</th>\n",
       "      <td>11.42</td>\n",
       "      <td>20.38</td>\n",
       "      <td>77.58</td>\n",
       "      <td>386.1</td>\n",
       "      <td>0.14250</td>\n",
       "      <td>0.28390</td>\n",
       "      <td>0.2414</td>\n",
       "      <td>0.10520</td>\n",
       "      <td>0.2597</td>\n",
       "      <td>0.09744</td>\n",
       "      <td>...</td>\n",
       "      <td>26.50</td>\n",
       "      <td>98.87</td>\n",
       "      <td>567.7</td>\n",
       "      <td>0.2098</td>\n",
       "      <td>0.8663</td>\n",
       "      <td>0.6869</td>\n",
       "      <td>0.2575</td>\n",
       "      <td>0.6638</td>\n",
       "      <td>0.17300</td>\n",
       "      <td>0</td>\n",
       "    </tr>\n",
       "    <tr>\n",
       "      <th>4</th>\n",
       "      <td>20.29</td>\n",
       "      <td>14.34</td>\n",
       "      <td>135.10</td>\n",
       "      <td>1297.0</td>\n",
       "      <td>0.10030</td>\n",
       "      <td>0.13280</td>\n",
       "      <td>0.1980</td>\n",
       "      <td>0.10430</td>\n",
       "      <td>0.1809</td>\n",
       "      <td>0.05883</td>\n",
       "      <td>...</td>\n",
       "      <td>16.67</td>\n",
       "      <td>152.20</td>\n",
       "      <td>1575.0</td>\n",
       "      <td>0.1374</td>\n",
       "      <td>0.2050</td>\n",
       "      <td>0.4000</td>\n",
       "      <td>0.1625</td>\n",
       "      <td>0.2364</td>\n",
       "      <td>0.07678</td>\n",
       "      <td>0</td>\n",
       "    </tr>\n",
       "  </tbody>\n",
       "</table>\n",
       "<p>5 rows × 31 columns</p>\n",
       "</div>"
      ],
      "text/plain": [
       "   mean radius  mean texture  mean perimeter  mean area  mean smoothness  \\\n",
       "0        17.99         10.38          122.80     1001.0          0.11840   \n",
       "1        20.57         17.77          132.90     1326.0          0.08474   \n",
       "2        19.69         21.25          130.00     1203.0          0.10960   \n",
       "3        11.42         20.38           77.58      386.1          0.14250   \n",
       "4        20.29         14.34          135.10     1297.0          0.10030   \n",
       "\n",
       "   mean compactness  mean concavity  mean concave points  mean symmetry  \\\n",
       "0           0.27760          0.3001              0.14710         0.2419   \n",
       "1           0.07864          0.0869              0.07017         0.1812   \n",
       "2           0.15990          0.1974              0.12790         0.2069   \n",
       "3           0.28390          0.2414              0.10520         0.2597   \n",
       "4           0.13280          0.1980              0.10430         0.1809   \n",
       "\n",
       "   mean fractal dimension  ...  worst texture  worst perimeter  worst area  \\\n",
       "0                 0.07871  ...          17.33           184.60      2019.0   \n",
       "1                 0.05667  ...          23.41           158.80      1956.0   \n",
       "2                 0.05999  ...          25.53           152.50      1709.0   \n",
       "3                 0.09744  ...          26.50            98.87       567.7   \n",
       "4                 0.05883  ...          16.67           152.20      1575.0   \n",
       "\n",
       "   worst smoothness  worst compactness  worst concavity  worst concave points  \\\n",
       "0            0.1622             0.6656           0.7119                0.2654   \n",
       "1            0.1238             0.1866           0.2416                0.1860   \n",
       "2            0.1444             0.4245           0.4504                0.2430   \n",
       "3            0.2098             0.8663           0.6869                0.2575   \n",
       "4            0.1374             0.2050           0.4000                0.1625   \n",
       "\n",
       "   worst symmetry  worst fractal dimension  target  \n",
       "0          0.4601                  0.11890       0  \n",
       "1          0.2750                  0.08902       0  \n",
       "2          0.3613                  0.08758       0  \n",
       "3          0.6638                  0.17300       0  \n",
       "4          0.2364                  0.07678       0  \n",
       "\n",
       "[5 rows x 31 columns]"
      ]
     },
     "execution_count": 3,
     "metadata": {},
     "output_type": "execute_result"
    }
   ],
   "source": [
    "# 데이터 불러오기\n",
    "bc = load_breast_cancer()\n",
    "\n",
    "# 데이터프레임으로 변환 (데이터 확인용으로 사용함)\n",
    "df = pd.DataFrame(bc.data, columns=bc.feature_names)\n",
    "df['target'] = pd.Series(bc.target)\n",
    "\n",
    "df.head()"
   ]
  },
  {
   "cell_type": "code",
   "execution_count": 4,
   "id": "bedbe7fc",
   "metadata": {},
   "outputs": [],
   "source": [
    "# train / test set으로 분리\n",
    "X_train, X_test, y_train, y_test = train_test_split(bc.data, bc.target, test_size=0.3, random_state=42)\n",
    "\n",
    "gnb = GaussianNB()\n",
    "\n",
    "# 학습\n",
    "gnb.fit(X_train, y_train)\n",
    "\n",
    "# 예측\n",
    "y_pred = gnb.predict(X_test)"
   ]
  },
  {
   "cell_type": "code",
   "execution_count": 5,
   "id": "43b97eeb",
   "metadata": {},
   "outputs": [
    {
     "name": "stdout",
     "output_type": "stream",
     "text": [
      "Accuracy:  94.15 %\n"
     ]
    }
   ],
   "source": [
    "# 정확도\n",
    "print('Accuracy: ', round(accuracy_score(y_test, y_pred), 4)*100, '%')"
   ]
  },
  {
   "cell_type": "markdown",
   "id": "798b3af5",
   "metadata": {},
   "source": [
    "# 2. SVM (Support Vector Machine) "
   ]
  },
  {
   "cell_type": "markdown",
   "id": "81f9b6cb",
   "metadata": {},
   "source": [
    "## 2-1. SVM"
   ]
  },
  {
   "cell_type": "markdown",
   "id": "e9ff2825",
   "metadata": {},
   "source": [
    "- 지도학습 모델\n",
    "- 데이터를 고차원 공간으로 사상시킨 후 support vector로 이루어진 초평면을 이용하여 선형 분류하는 __마진 기반__ 기계학습 모델\n",
    "- 이때 계산량의 증가를 방지하기 위해서 커널함수 (kernel function) 사용"
   ]
  },
  {
   "cell_type": "markdown",
   "id": "676e9ba1",
   "metadata": {},
   "source": [
    "<img align=\"center\" width=\"300\" height=\"200\" src=\"https://www.researchgate.net/profile/Muhammad-Awais-Bin-Altaf/publication/272520997/figure/fig2/AS:601593388998663@1520442449352/Motivation-behind-non-linear-SVM-classifier.png\">\n",
    "\n",
    "A의 경우, 쉽게 선형 분류가 가능 <br/>\n",
    "<br/>\n",
    "그렇다면, B의 경우는? <br/>\n",
    "<br/>\n",
    "$\\rightarrow$ 고차원 공간으로 사상시켜서 초평면을 이용하여 선형 분류"
   ]
  },
  {
   "cell_type": "markdown",
   "id": "df9778d1",
   "metadata": {},
   "source": [
    "## 2-2. Kernel Function (커널 함수)"
   ]
  },
  {
   "cell_type": "markdown",
   "id": "0be225d1",
   "metadata": {},
   "source": [
    "- 데이터를 고차원 공간으로 mapping 시키는 함수\n",
    "- 선형 분리 불가능 문제를 선형 분리 가능 문제로 변환해줌\n",
    "- 직선이 파라미터를 찾기 제일 쉬운 함수이므로 가능한 linear-separable하게 변환하는 게 좋음"
   ]
  },
  {
   "cell_type": "markdown",
   "id": "1ddd114b",
   "metadata": {},
   "source": [
    "## 2-3. Support Vector (지지 벡터) / Maximum Margin (최대 마진)"
   ]
  },
  {
   "cell_type": "markdown",
   "id": "f81a9cd0",
   "metadata": {},
   "source": [
    "__Support Vector__ <br/>\n",
    "- 선형 분류의 경계 주변에 존재하는 데이터 포인트들 <br/>\n",
    "<img align=\"left\" width=\"300\" height=\"300\" src=\"https://learnopencv.com/wp-content/uploads/2018/07/support-vectors-and-maximum-margin.png\">\n"
   ]
  },
  {
   "cell_type": "markdown",
   "id": "efdc4e46",
   "metadata": {},
   "source": [
    "__Maximum Margin__ <br/>\n",
    "- 선형 분류를 가능하게 하는 직선은 무수히 많이 존재하지만, 그 중 마진을 최대로 하는 직선이 가장 이상적\n",
    "- 마진을 최대로 하는 직선이 가장 이상적인 이유?\n",
    "    - Outlier의 영향을 가장 덜 받기 때문(가장 Robust하기 때문) <br/>\n",
    "<img align=\"center\" width=\"500\" height=\"300\" src=\"https://static.packt-cdn.com/products/9781783555130/graphics/3547_03_07.jpg\"> <br/>\n",
    "- 직선의 방정식: $y=wx + b = 0$ => w와 b를 찾는 문제\n",
    "- $wx^+ + b = 1$ => positive 영역의 margin line <br/>\n",
    "- $wx^- + b = -1$ => negative 영역의 margin line <br/>\n",
    "- 두 직선의 거리(Margin)를 구하려면: <br/>\n",
    "$w(x^+ - x^-) = 2$ <br/>\n",
    "$ x^+ - x^- =  \\frac{2}{||w||}$ <br/>"
   ]
  },
  {
   "cell_type": "markdown",
   "id": "4b2b3a84",
   "metadata": {},
   "source": [
    "## 2-4. Optimization Problem (최적화 문제)"
   ]
  },
  {
   "cell_type": "markdown",
   "id": "f11f70c2",
   "metadata": {},
   "source": [
    "- 목적함수: (너비 최대화) $max(\\frac{2}{||w||}) \\leftrightarrow min(\\frac{1}{2}||w||^2)$ (벡터 w의 자기 자신과의 내적값 최소화)\n",
    "- 제약조건: $y_i(wx_i+b) = 1$"
   ]
  },
  {
   "cell_type": "markdown",
   "id": "9715efac",
   "metadata": {},
   "source": [
    "### 라그랑주 승수법\n",
    "- 제약식에 형식적인 라그랑주 승수(Lagrange Multiplier)를 곱한 항을 최적화하려는 목적식에 더하여 제약된 문제를 제약이 없는 문제로 바꾸는 기법 <br/>\n",
    "\n",
    "$J(w, b, \\alpha) = \\frac{1}{2}w \\centerdot w - \\Sigma^n_{i=1} \\alpha_i\\{y_i(wx_i - b) - 1\\}$ <br/>\n",
    "$\\alpha$ : Lagrange Multiplier <br/>\n",
    "w, b에 대한 최소값 = 정점 => 미분했을 때 기울기가 0인 곳 <br/>\n",
    "조건1: $\\frac{\\partial J(w, b, \\alpha)}{\\partial w} = 0$ <br/>\n",
    "조건1: $\\frac{\\partial J(w, b, \\alpha)}{\\partial b} = 0$ <br/>\n",
    "<br/>\n",
    "$\\rightarrow$ $w = \\Sigma^n_{i=1}\\alpha_i y_i x_i$ & $\\Sigma^n_{i=1}\\alpha_i y_i = 0$ <br/>\n",
    "<br/>\n",
    "자세한 내용은 <a href=\"https://untitledtblog.tistory.com/96\">여기</a>를 참고"
   ]
  },
  {
   "cell_type": "markdown",
   "id": "d1af4db9",
   "metadata": {},
   "source": [
    "### Dual 문제\n",
    "- Dual 문제로 변환하면 w를 없애고 training data에서 얻을 수 있는 것으로 바꿀 수 있음 <br/>\n",
    "<br/>\n",
    "$J(w, b, \\alpha) = \\frac{1}{2}w \\centerdot w - \\Sigma^n_{i=1} \\alpha_i\\{y_i(wx_i - b) - 1\\}$ & $w = \\Sigma^n_{i=1}\\alpha_i y_i x_i$ & $\\Sigma^n_{i=1}\\alpha_i y_i = 0$ <br/>\n",
    "$J(w, b, \\alpha) = \\frac{1}{2}w \\centerdot w - \\Sigma^n_{i=1}\\alpha_i y_i wx_i - b \\Sigma^n_{i=1}\\alpha_i y_i + \\Sigma^n_{i=1} \\alpha_i$ <br/>\n",
    "여기서 $\\Sigma^n_{i=1}\\alpha_i y_i wx_i = w \\centerdot \\Sigma^n_{i=1}\\alpha_i y_i x_i = w \\centerdot w$ <br/>\n",
    "<br/>\n",
    "$J(w, b, \\alpha)$ 를 $Q(\\alpha)$라고 한다면, <br/>\n",
    "$Q(\\alpha) = \\Sigma^n_{i=1} \\alpha_i - \\frac{1}{2}\\Sigma^n_{i=1}\\Sigma^n_{j=1}\\alpha_i \\alpha_j y_i y_j x_i x_j$ <br/>\n",
    "조건: $\\Sigma^n_{i=1}\\alpha_i y_i = 0$, $ \\alpha \\geq 0 $\n",
    "<br/>\n",
    "<br/>\n",
    "- w와 b에 대한 최소값 = $\\alpha$에 대한 최대값 $\\rightarrow$ $Q(\\alpha)$의 최대값을 구하면 됨<br/>\n",
    "\n",
    "자세한 내용은 <a href=\"https://ratsgo.github.io/convex%20optimization/2018/01/25/duality/\">여기</a>를 참고"
   ]
  },
  {
   "cell_type": "markdown",
   "id": "c688b207",
   "metadata": {},
   "source": [
    "## 2-5. Kernel Trick (커널 트릭)"
   ]
  },
  {
   "cell_type": "markdown",
   "id": "0a30a24b",
   "metadata": {},
   "source": [
    "- SVM은 \"고차원\" 공간으로 사상한 후 내적을 수행함\n",
    "- 하지만 고차원 공간으로 사상한 후 내적을 구하는 것은 매우 복잡함\n",
    "- 현재 차원에서 동일한 효과를 거두는 커널 함수를 사용하는 \"커널 트릭\"을 사용\n",
    "- Mercer의 이론에 따르면 다음 조건을 만족하면 커널 트릭 함수로 대체 가능 <br/>\n",
    "<br/>\n",
    "$\\int K(u,v) \\psi (u) \\psi (v) dxdy \\leq 0$ <br/>\n",
    "$where \\int \\psi(x)^2dx \\leq 0 $ <br/>\n",
    "\n",
    "__자주 쓰이는 커널 트릭 함수__ <br/>\n",
    "- Polynomial kernel $K(a, b) = (a^Tb+1)^d$\n",
    "- Radial kernel $K(a, b) = \\exp (- \\lambda ||a-b||^2)$\n",
    "- Sigmoid kernel $K(a, b) = tanh(ka^Tb + \\theta )$"
   ]
  },
  {
   "cell_type": "markdown",
   "id": "e6b0ca17",
   "metadata": {},
   "source": [
    "### 2-6. 예제"
   ]
  },
  {
   "cell_type": "code",
   "execution_count": 6,
   "id": "a8c0ad5b",
   "metadata": {},
   "outputs": [],
   "source": [
    "import pandas as pd\n",
    "from sklearn.model_selection import train_test_split\n",
    "from sklearn.svm import SVC"
   ]
  },
  {
   "cell_type": "code",
   "execution_count": 7,
   "id": "49d2c296",
   "metadata": {},
   "outputs": [
    {
     "data": {
      "text/html": [
       "<div>\n",
       "<style scoped>\n",
       "    .dataframe tbody tr th:only-of-type {\n",
       "        vertical-align: middle;\n",
       "    }\n",
       "\n",
       "    .dataframe tbody tr th {\n",
       "        vertical-align: top;\n",
       "    }\n",
       "\n",
       "    .dataframe thead th {\n",
       "        text-align: right;\n",
       "    }\n",
       "</style>\n",
       "<table border=\"1\" class=\"dataframe\">\n",
       "  <thead>\n",
       "    <tr style=\"text-align: right;\">\n",
       "      <th></th>\n",
       "      <th>mean radius</th>\n",
       "      <th>mean texture</th>\n",
       "      <th>mean perimeter</th>\n",
       "      <th>mean area</th>\n",
       "      <th>mean smoothness</th>\n",
       "      <th>mean compactness</th>\n",
       "      <th>mean concavity</th>\n",
       "      <th>mean concave points</th>\n",
       "      <th>mean symmetry</th>\n",
       "      <th>mean fractal dimension</th>\n",
       "      <th>...</th>\n",
       "      <th>worst texture</th>\n",
       "      <th>worst perimeter</th>\n",
       "      <th>worst area</th>\n",
       "      <th>worst smoothness</th>\n",
       "      <th>worst compactness</th>\n",
       "      <th>worst concavity</th>\n",
       "      <th>worst concave points</th>\n",
       "      <th>worst symmetry</th>\n",
       "      <th>worst fractal dimension</th>\n",
       "      <th>target</th>\n",
       "    </tr>\n",
       "  </thead>\n",
       "  <tbody>\n",
       "    <tr>\n",
       "      <th>0</th>\n",
       "      <td>17.99</td>\n",
       "      <td>10.38</td>\n",
       "      <td>122.80</td>\n",
       "      <td>1001.0</td>\n",
       "      <td>0.11840</td>\n",
       "      <td>0.27760</td>\n",
       "      <td>0.3001</td>\n",
       "      <td>0.14710</td>\n",
       "      <td>0.2419</td>\n",
       "      <td>0.07871</td>\n",
       "      <td>...</td>\n",
       "      <td>17.33</td>\n",
       "      <td>184.60</td>\n",
       "      <td>2019.0</td>\n",
       "      <td>0.1622</td>\n",
       "      <td>0.6656</td>\n",
       "      <td>0.7119</td>\n",
       "      <td>0.2654</td>\n",
       "      <td>0.4601</td>\n",
       "      <td>0.11890</td>\n",
       "      <td>0</td>\n",
       "    </tr>\n",
       "    <tr>\n",
       "      <th>1</th>\n",
       "      <td>20.57</td>\n",
       "      <td>17.77</td>\n",
       "      <td>132.90</td>\n",
       "      <td>1326.0</td>\n",
       "      <td>0.08474</td>\n",
       "      <td>0.07864</td>\n",
       "      <td>0.0869</td>\n",
       "      <td>0.07017</td>\n",
       "      <td>0.1812</td>\n",
       "      <td>0.05667</td>\n",
       "      <td>...</td>\n",
       "      <td>23.41</td>\n",
       "      <td>158.80</td>\n",
       "      <td>1956.0</td>\n",
       "      <td>0.1238</td>\n",
       "      <td>0.1866</td>\n",
       "      <td>0.2416</td>\n",
       "      <td>0.1860</td>\n",
       "      <td>0.2750</td>\n",
       "      <td>0.08902</td>\n",
       "      <td>0</td>\n",
       "    </tr>\n",
       "    <tr>\n",
       "      <th>2</th>\n",
       "      <td>19.69</td>\n",
       "      <td>21.25</td>\n",
       "      <td>130.00</td>\n",
       "      <td>1203.0</td>\n",
       "      <td>0.10960</td>\n",
       "      <td>0.15990</td>\n",
       "      <td>0.1974</td>\n",
       "      <td>0.12790</td>\n",
       "      <td>0.2069</td>\n",
       "      <td>0.05999</td>\n",
       "      <td>...</td>\n",
       "      <td>25.53</td>\n",
       "      <td>152.50</td>\n",
       "      <td>1709.0</td>\n",
       "      <td>0.1444</td>\n",
       "      <td>0.4245</td>\n",
       "      <td>0.4504</td>\n",
       "      <td>0.2430</td>\n",
       "      <td>0.3613</td>\n",
       "      <td>0.08758</td>\n",
       "      <td>0</td>\n",
       "    </tr>\n",
       "    <tr>\n",
       "      <th>3</th>\n",
       "      <td>11.42</td>\n",
       "      <td>20.38</td>\n",
       "      <td>77.58</td>\n",
       "      <td>386.1</td>\n",
       "      <td>0.14250</td>\n",
       "      <td>0.28390</td>\n",
       "      <td>0.2414</td>\n",
       "      <td>0.10520</td>\n",
       "      <td>0.2597</td>\n",
       "      <td>0.09744</td>\n",
       "      <td>...</td>\n",
       "      <td>26.50</td>\n",
       "      <td>98.87</td>\n",
       "      <td>567.7</td>\n",
       "      <td>0.2098</td>\n",
       "      <td>0.8663</td>\n",
       "      <td>0.6869</td>\n",
       "      <td>0.2575</td>\n",
       "      <td>0.6638</td>\n",
       "      <td>0.17300</td>\n",
       "      <td>0</td>\n",
       "    </tr>\n",
       "    <tr>\n",
       "      <th>4</th>\n",
       "      <td>20.29</td>\n",
       "      <td>14.34</td>\n",
       "      <td>135.10</td>\n",
       "      <td>1297.0</td>\n",
       "      <td>0.10030</td>\n",
       "      <td>0.13280</td>\n",
       "      <td>0.1980</td>\n",
       "      <td>0.10430</td>\n",
       "      <td>0.1809</td>\n",
       "      <td>0.05883</td>\n",
       "      <td>...</td>\n",
       "      <td>16.67</td>\n",
       "      <td>152.20</td>\n",
       "      <td>1575.0</td>\n",
       "      <td>0.1374</td>\n",
       "      <td>0.2050</td>\n",
       "      <td>0.4000</td>\n",
       "      <td>0.1625</td>\n",
       "      <td>0.2364</td>\n",
       "      <td>0.07678</td>\n",
       "      <td>0</td>\n",
       "    </tr>\n",
       "  </tbody>\n",
       "</table>\n",
       "<p>5 rows × 31 columns</p>\n",
       "</div>"
      ],
      "text/plain": [
       "   mean radius  mean texture  mean perimeter  mean area  mean smoothness  \\\n",
       "0        17.99         10.38          122.80     1001.0          0.11840   \n",
       "1        20.57         17.77          132.90     1326.0          0.08474   \n",
       "2        19.69         21.25          130.00     1203.0          0.10960   \n",
       "3        11.42         20.38           77.58      386.1          0.14250   \n",
       "4        20.29         14.34          135.10     1297.0          0.10030   \n",
       "\n",
       "   mean compactness  mean concavity  mean concave points  mean symmetry  \\\n",
       "0           0.27760          0.3001              0.14710         0.2419   \n",
       "1           0.07864          0.0869              0.07017         0.1812   \n",
       "2           0.15990          0.1974              0.12790         0.2069   \n",
       "3           0.28390          0.2414              0.10520         0.2597   \n",
       "4           0.13280          0.1980              0.10430         0.1809   \n",
       "\n",
       "   mean fractal dimension  ...  worst texture  worst perimeter  worst area  \\\n",
       "0                 0.07871  ...          17.33           184.60      2019.0   \n",
       "1                 0.05667  ...          23.41           158.80      1956.0   \n",
       "2                 0.05999  ...          25.53           152.50      1709.0   \n",
       "3                 0.09744  ...          26.50            98.87       567.7   \n",
       "4                 0.05883  ...          16.67           152.20      1575.0   \n",
       "\n",
       "   worst smoothness  worst compactness  worst concavity  worst concave points  \\\n",
       "0            0.1622             0.6656           0.7119                0.2654   \n",
       "1            0.1238             0.1866           0.2416                0.1860   \n",
       "2            0.1444             0.4245           0.4504                0.2430   \n",
       "3            0.2098             0.8663           0.6869                0.2575   \n",
       "4            0.1374             0.2050           0.4000                0.1625   \n",
       "\n",
       "   worst symmetry  worst fractal dimension  target  \n",
       "0          0.4601                  0.11890       0  \n",
       "1          0.2750                  0.08902       0  \n",
       "2          0.3613                  0.08758       0  \n",
       "3          0.6638                  0.17300       0  \n",
       "4          0.2364                  0.07678       0  \n",
       "\n",
       "[5 rows x 31 columns]"
      ]
     },
     "execution_count": 7,
     "metadata": {},
     "output_type": "execute_result"
    }
   ],
   "source": [
    "# 데이터 불러오기\n",
    "bc = load_breast_cancer()\n",
    "\n",
    "# 데이터프레임으로 변환 (데이터 확인용으로 사용함)\n",
    "df = pd.DataFrame(bc.data, columns=bc.feature_names)\n",
    "df['target'] = pd.Series(bc.target)\n",
    "\n",
    "df.head()"
   ]
  },
  {
   "cell_type": "code",
   "execution_count": 10,
   "id": "53032e76",
   "metadata": {},
   "outputs": [],
   "source": [
    "# train / test set으로 분리\n",
    "X_train, X_test, y_train, y_test = train_test_split(bc.data, bc.target, test_size=0.3, random_state=42)\n",
    "\n",
    "svm = SVC() # 커널 함수 default: RBF\n",
    "\n",
    "# 학습\n",
    "svm.fit(X_train, y_train)\n",
    "\n",
    "# 예측\n",
    "y_pred = svm.predict(X_test)"
   ]
  },
  {
   "cell_type": "code",
   "execution_count": 11,
   "id": "6501bcb0",
   "metadata": {},
   "outputs": [
    {
     "name": "stdout",
     "output_type": "stream",
     "text": [
      "Accuracy:  93.57 %\n"
     ]
    }
   ],
   "source": [
    "# 정확도\n",
    "print('Accuracy: ', round(accuracy_score(y_test, y_pred), 4)*100, '%')"
   ]
  },
  {
   "cell_type": "markdown",
   "id": "3c1bc29c",
   "metadata": {},
   "source": [
    "# 3. 과제\n",
    "\n",
    "Kaggle의 <a href=\"https://www.kaggle.com/balaka18/email-spam-classification-dataset-csv\"> email spam classification dataset</a>을 Naive Bayes와 SVM으로 각각 학습 시킨 후 예측한 결과의 정확도 계산 <br/>\n",
    "- EDA, 전처리는 자유\n",
    "- 하이퍼파라미터 변경도 자유"
   ]
  },
  {
   "cell_type": "code",
   "execution_count": 12,
   "id": "7c753479",
   "metadata": {},
   "outputs": [],
   "source": [
    "import pandas as pd\n",
    "from sklearn.model_selection import train_test_split\n",
    "from sklearn.svm import SVC\n",
    "from sklearn.naive_bayes import GaussianNB # 다른 나이브 베이즈 모델을 써도 무관함\n",
    "from sklearn.metrics import accuracy_score"
   ]
  },
  {
   "cell_type": "code",
   "execution_count": 13,
   "id": "84979b67",
   "metadata": {
    "scrolled": true
   },
   "outputs": [
    {
     "data": {
      "text/html": [
       "<div>\n",
       "<style scoped>\n",
       "    .dataframe tbody tr th:only-of-type {\n",
       "        vertical-align: middle;\n",
       "    }\n",
       "\n",
       "    .dataframe tbody tr th {\n",
       "        vertical-align: top;\n",
       "    }\n",
       "\n",
       "    .dataframe thead th {\n",
       "        text-align: right;\n",
       "    }\n",
       "</style>\n",
       "<table border=\"1\" class=\"dataframe\">\n",
       "  <thead>\n",
       "    <tr style=\"text-align: right;\">\n",
       "      <th></th>\n",
       "      <th>the</th>\n",
       "      <th>to</th>\n",
       "      <th>ect</th>\n",
       "      <th>and</th>\n",
       "      <th>for</th>\n",
       "      <th>of</th>\n",
       "      <th>a</th>\n",
       "      <th>you</th>\n",
       "      <th>hou</th>\n",
       "      <th>in</th>\n",
       "      <th>...</th>\n",
       "      <th>connevey</th>\n",
       "      <th>jay</th>\n",
       "      <th>valued</th>\n",
       "      <th>lay</th>\n",
       "      <th>infrastructure</th>\n",
       "      <th>military</th>\n",
       "      <th>allowing</th>\n",
       "      <th>ff</th>\n",
       "      <th>dry</th>\n",
       "      <th>Prediction</th>\n",
       "    </tr>\n",
       "    <tr>\n",
       "      <th>Email No.</th>\n",
       "      <th></th>\n",
       "      <th></th>\n",
       "      <th></th>\n",
       "      <th></th>\n",
       "      <th></th>\n",
       "      <th></th>\n",
       "      <th></th>\n",
       "      <th></th>\n",
       "      <th></th>\n",
       "      <th></th>\n",
       "      <th></th>\n",
       "      <th></th>\n",
       "      <th></th>\n",
       "      <th></th>\n",
       "      <th></th>\n",
       "      <th></th>\n",
       "      <th></th>\n",
       "      <th></th>\n",
       "      <th></th>\n",
       "      <th></th>\n",
       "      <th></th>\n",
       "    </tr>\n",
       "  </thead>\n",
       "  <tbody>\n",
       "    <tr>\n",
       "      <th>Email 1</th>\n",
       "      <td>0</td>\n",
       "      <td>0</td>\n",
       "      <td>1</td>\n",
       "      <td>0</td>\n",
       "      <td>0</td>\n",
       "      <td>0</td>\n",
       "      <td>2</td>\n",
       "      <td>0</td>\n",
       "      <td>0</td>\n",
       "      <td>0</td>\n",
       "      <td>...</td>\n",
       "      <td>0</td>\n",
       "      <td>0</td>\n",
       "      <td>0</td>\n",
       "      <td>0</td>\n",
       "      <td>0</td>\n",
       "      <td>0</td>\n",
       "      <td>0</td>\n",
       "      <td>0</td>\n",
       "      <td>0</td>\n",
       "      <td>0</td>\n",
       "    </tr>\n",
       "    <tr>\n",
       "      <th>Email 2</th>\n",
       "      <td>8</td>\n",
       "      <td>13</td>\n",
       "      <td>24</td>\n",
       "      <td>6</td>\n",
       "      <td>6</td>\n",
       "      <td>2</td>\n",
       "      <td>102</td>\n",
       "      <td>1</td>\n",
       "      <td>27</td>\n",
       "      <td>18</td>\n",
       "      <td>...</td>\n",
       "      <td>0</td>\n",
       "      <td>0</td>\n",
       "      <td>0</td>\n",
       "      <td>0</td>\n",
       "      <td>0</td>\n",
       "      <td>0</td>\n",
       "      <td>0</td>\n",
       "      <td>1</td>\n",
       "      <td>0</td>\n",
       "      <td>0</td>\n",
       "    </tr>\n",
       "    <tr>\n",
       "      <th>Email 3</th>\n",
       "      <td>0</td>\n",
       "      <td>0</td>\n",
       "      <td>1</td>\n",
       "      <td>0</td>\n",
       "      <td>0</td>\n",
       "      <td>0</td>\n",
       "      <td>8</td>\n",
       "      <td>0</td>\n",
       "      <td>0</td>\n",
       "      <td>4</td>\n",
       "      <td>...</td>\n",
       "      <td>0</td>\n",
       "      <td>0</td>\n",
       "      <td>0</td>\n",
       "      <td>0</td>\n",
       "      <td>0</td>\n",
       "      <td>0</td>\n",
       "      <td>0</td>\n",
       "      <td>0</td>\n",
       "      <td>0</td>\n",
       "      <td>0</td>\n",
       "    </tr>\n",
       "    <tr>\n",
       "      <th>Email 4</th>\n",
       "      <td>0</td>\n",
       "      <td>5</td>\n",
       "      <td>22</td>\n",
       "      <td>0</td>\n",
       "      <td>5</td>\n",
       "      <td>1</td>\n",
       "      <td>51</td>\n",
       "      <td>2</td>\n",
       "      <td>10</td>\n",
       "      <td>1</td>\n",
       "      <td>...</td>\n",
       "      <td>0</td>\n",
       "      <td>0</td>\n",
       "      <td>0</td>\n",
       "      <td>0</td>\n",
       "      <td>0</td>\n",
       "      <td>0</td>\n",
       "      <td>0</td>\n",
       "      <td>0</td>\n",
       "      <td>0</td>\n",
       "      <td>0</td>\n",
       "    </tr>\n",
       "    <tr>\n",
       "      <th>Email 5</th>\n",
       "      <td>7</td>\n",
       "      <td>6</td>\n",
       "      <td>17</td>\n",
       "      <td>1</td>\n",
       "      <td>5</td>\n",
       "      <td>2</td>\n",
       "      <td>57</td>\n",
       "      <td>0</td>\n",
       "      <td>9</td>\n",
       "      <td>3</td>\n",
       "      <td>...</td>\n",
       "      <td>0</td>\n",
       "      <td>0</td>\n",
       "      <td>0</td>\n",
       "      <td>0</td>\n",
       "      <td>0</td>\n",
       "      <td>0</td>\n",
       "      <td>0</td>\n",
       "      <td>1</td>\n",
       "      <td>0</td>\n",
       "      <td>0</td>\n",
       "    </tr>\n",
       "  </tbody>\n",
       "</table>\n",
       "<p>5 rows × 3001 columns</p>\n",
       "</div>"
      ],
      "text/plain": [
       "           the  to  ect  and  for  of    a  you  hou  in  ...  connevey  jay  \\\n",
       "Email No.                                                 ...                  \n",
       "Email 1      0   0    1    0    0   0    2    0    0   0  ...         0    0   \n",
       "Email 2      8  13   24    6    6   2  102    1   27  18  ...         0    0   \n",
       "Email 3      0   0    1    0    0   0    8    0    0   4  ...         0    0   \n",
       "Email 4      0   5   22    0    5   1   51    2   10   1  ...         0    0   \n",
       "Email 5      7   6   17    1    5   2   57    0    9   3  ...         0    0   \n",
       "\n",
       "           valued  lay  infrastructure  military  allowing  ff  dry  \\\n",
       "Email No.                                                             \n",
       "Email 1         0    0               0         0         0   0    0   \n",
       "Email 2         0    0               0         0         0   1    0   \n",
       "Email 3         0    0               0         0         0   0    0   \n",
       "Email 4         0    0               0         0         0   0    0   \n",
       "Email 5         0    0               0         0         0   1    0   \n",
       "\n",
       "           Prediction  \n",
       "Email No.              \n",
       "Email 1             0  \n",
       "Email 2             0  \n",
       "Email 3             0  \n",
       "Email 4             0  \n",
       "Email 5             0  \n",
       "\n",
       "[5 rows x 3001 columns]"
      ]
     },
     "execution_count": 13,
     "metadata": {},
     "output_type": "execute_result"
    }
   ],
   "source": [
    "email = pd.read_csv('emails.csv', index_col='Email No.')\n",
    "email.head()"
   ]
  },
  {
   "cell_type": "code",
   "execution_count": 14,
   "id": "7b72ad83",
   "metadata": {},
   "outputs": [],
   "source": [
    "# 데이터셋을 X와 y로 분리\n",
    "X = email.drop('Prediction', axis=1)\n",
    "y = email['Prediction']\n",
    "\n",
    "# 데이터셋을 train/test set으로 분리\n",
    "X_train, X_test, y_train, y_test = train_test_split(X, y, test_size=0.3, random_state=42)\n"
   ]
  },
  {
   "cell_type": "code",
   "execution_count": null,
   "id": "47dd95e2",
   "metadata": {},
   "outputs": [],
   "source": [
    "# Naive Bayes 모델"
   ]
  },
  {
   "cell_type": "code",
   "execution_count": null,
   "id": "c55d00d9",
   "metadata": {},
   "outputs": [],
   "source": [
    "# SVM"
   ]
  },
  {
   "cell_type": "code",
   "execution_count": null,
   "id": "ef270bae",
   "metadata": {},
   "outputs": [],
   "source": [
    "# 정확도 계산"
   ]
  }
 ],
 "metadata": {
  "kernelspec": {
   "display_name": "Python 3",
   "language": "python",
   "name": "python3"
  },
  "language_info": {
   "codemirror_mode": {
    "name": "ipython",
    "version": 3
   },
   "file_extension": ".py",
   "mimetype": "text/x-python",
   "name": "python",
   "nbconvert_exporter": "python",
   "pygments_lexer": "ipython3",
   "version": "3.7.4"
  },
  "varInspector": {
   "cols": {
    "lenName": 16,
    "lenType": 16,
    "lenVar": 40
   },
   "kernels_config": {
    "python": {
     "delete_cmd_postfix": "",
     "delete_cmd_prefix": "del ",
     "library": "var_list.py",
     "varRefreshCmd": "print(var_dic_list())"
    },
    "r": {
     "delete_cmd_postfix": ") ",
     "delete_cmd_prefix": "rm(",
     "library": "var_list.r",
     "varRefreshCmd": "cat(var_dic_list()) "
    }
   },
   "types_to_exclude": [
    "module",
    "function",
    "builtin_function_or_method",
    "instance",
    "_Feature"
   ],
   "window_display": false
  }
 },
 "nbformat": 4,
 "nbformat_minor": 5
}
