{
 "cells": [
  {
   "cell_type": "code",
   "execution_count": null,
   "id": "8189ce20",
   "metadata": {},
   "outputs": [],
   "source": [
    "from bs4 import BeautifulSoup\n",
    "from urllib.request import urlretrieve\n",
    "from selenium.webdriver import Chrome, ChromeOptions\n",
    "from selenium.webdriver.common.alert import Alert\n",
    "from selenium.webdriver.support.ui import WebDriverWait\n",
    "from selenium.webdriver.support import expected_conditions as EC\n",
    "from selenium.common.exceptions import NoAlertPresentException, TimeoutException, UnexpectedAlertPresentException, ElementClickInterceptedException\n",
    "import time\n",
    "import re\n",
    "import base64"
   ]
  },
  {
   "cell_type": "code",
   "execution_count": null,
   "id": "967e1f7e",
   "metadata": {},
   "outputs": [],
   "source": [
    "options = ChromeOptions()\n",
    "options.add_argument('user-agent=Mozilla/5.0 (Windows NT 10.0; Win64; x64) AppleWebKit/537.36 (KHTML, like Gecko) Chrome/91.0.4472.124 Safari/537.36')\n",
    "options.add_argument(\"--incognito\")\n",
    "driver = Chrome(options=options)\n",
    "url = 'https://kupis.konkuk.ac.kr/sugang/login/loginTop.jsp'\n",
    "driver.get(url)\n",
    "\n",
    "time.sleep(0.5)\n",
    "\n",
    "driver.find_element_by_name('stdNo').clear()\n",
    "driver.find_element_by_name('stdNo').send_keys('id')\n",
    "driver.find_element_by_name('pwd').clear()\n",
    "driver.find_element_by_name('pwd').send_keys('pw')\n",
    "driver.find_element_by_css_selector('form input[type=button]').click()\n",
    "\n",
    "time.sleep(1)\n",
    "\n",
    "driver.close()\n",
    "driver.switch_to.window(driver.window_handles[0])\n",
    "driver.get('https://kupis.konkuk.ac.kr/sugang/acd/cour/aply/courLessinApplyReg.jsp')"
   ]
  },
  {
   "cell_type": "code",
   "execution_count": null,
   "id": "f6736a1f",
   "metadata": {},
   "outputs": [],
   "source": [
    "# subj = [] 수강신청 할 과목 리스트\n",
    "while True:\n",
    "    for _ in subj:\n",
    "        try:\n",
    "            driver.find_element_by_name('strSbjtId').clear()\n",
    "            driver.find_element_by_name('strSbjtId').send_keys(_)\n",
    "            driver.find_element_by_name('new').click()\n",
    "            try:\n",
    "                WebDriverWait(driver, 3).until(EC.alert_is_present(),\n",
    "                                                       'Timed out waiting for PA creation ' +\n",
    "                                                       'confirmation popup to appear.')\n",
    "\n",
    "                alert = Alert(driver)\n",
    "\n",
    "                if alert.text == '입력하신 과목번호와 동일한 과목번호가 존재합니다.':\n",
    "                    alert.accept()\n",
    "                    break\n",
    "\n",
    "                else:\n",
    "                    alert.accept()\n",
    "                    time.sleep(0.5)\n",
    "\n",
    "            except ElementClickInterceptedException:\n",
    "                try:\n",
    "                    time.sleep(0.5)\n",
    "                    dom = BeautifulSoup(driver.page_source, 'lxml')\n",
    "                    source = dom.select_one('#captcha_image_t')\n",
    "                    img = re.findall(r'randomImg/(.+?)\\.png', str(source))[0]\n",
    "                    decoder = base64.b64decode(img)\n",
    "                    string = decoder.decode('utf-8')\n",
    "\n",
    "                    driver.find_element_by_id('captcha_answer_u').clear()\n",
    "                    driver.find_element_by_id('captcha_answer_u').send_keys(string)\n",
    "                    driver.find_element_by_tag_name('button').click()\n",
    "                except Exception:\n",
    "                    continue\n",
    "        except Exception:\n",
    "            dom = BeautifulSoup(driver.page_source, 'lxml')\n",
    "            source = dom.select_one('#captcha_image_t')\n",
    "            img = re.findall(r'randomImg/(.+?)\\.png', str(source))[0]\n",
    "            decoder = base64.b64decode(img)\n",
    "            string = decoder.decode('utf-8')\n",
    "\n",
    "            driver.find_element_by_id('captcha_answer_u').clear()\n",
    "            driver.find_element_by_id('captcha_answer_u').send_keys(string)\n",
    "            driver.find_element_by_tag_name('button').click()"
   ]
  }
 ],
 "metadata": {
  "kernelspec": {
   "display_name": "Python 3 (ipykernel)",
   "language": "python",
   "name": "python3"
  },
  "language_info": {
   "codemirror_mode": {
    "name": "ipython",
    "version": 3
   },
   "file_extension": ".py",
   "mimetype": "text/x-python",
   "name": "python",
   "nbconvert_exporter": "python",
   "pygments_lexer": "ipython3",
   "version": "3.7.11"
  },
  "varInspector": {
   "cols": {
    "lenName": 16,
    "lenType": 16,
    "lenVar": 40
   },
   "kernels_config": {
    "python": {
     "delete_cmd_postfix": "",
     "delete_cmd_prefix": "del ",
     "library": "var_list.py",
     "varRefreshCmd": "print(var_dic_list())"
    },
    "r": {
     "delete_cmd_postfix": ") ",
     "delete_cmd_prefix": "rm(",
     "library": "var_list.r",
     "varRefreshCmd": "cat(var_dic_list()) "
    }
   },
   "types_to_exclude": [
    "module",
    "function",
    "builtin_function_or_method",
    "instance",
    "_Feature"
   ],
   "window_display": false
  }
 },
 "nbformat": 4,
 "nbformat_minor": 5
}
