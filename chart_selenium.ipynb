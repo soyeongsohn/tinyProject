{
 "cells": [
  {
   "cell_type": "code",
   "execution_count": 1,
   "id": "4777cd38",
   "metadata": {},
   "outputs": [],
   "source": [
    "from bs4 import BeautifulSoup\n",
    "from selenium.webdriver import Chrome, ChromeOptions\n",
    "from selenium.webdriver.support.ui import WebDriverWait\n",
    "from selenium.webdriver.support import expected_conditions as EC\n",
    "from selenium.webdriver.common.by import By\n",
    "from webdriver_manager.chrome import ChromeDriverManager\n",
    "from time import sleep\n",
    "import re\n",
    "import time\n",
    "from datetime import datetime\n",
    "import pause\n",
    "import pandas as pd\n",
    "import json\n",
    "import tweepy"
   ]
  },
  {
   "cell_type": "code",
   "execution_count": null,
   "id": "57b0fe30",
   "metadata": {
    "scrolled": true
   },
   "outputs": [
    {
     "name": "stderr",
     "output_type": "stream",
     "text": [
      "[WDM] - \n",
      "\n",
      "[WDM] - ====== WebDriver manager ======\n",
      "[WDM] - Current google-chrome version is 95.0.4638\n",
      "[WDM] - Get LATEST driver version for 95.0.4638\n",
      "[WDM] - Driver [C:\\Users\\USER\\.wdm\\drivers\\chromedriver\\win32\\95.0.4638.69\\chromedriver.exe] found in cache\n",
      "[WDM] - \n",
      "\n",
      "[WDM] - ====== WebDriver manager ======\n",
      "[WDM] - Current google-chrome version is 95.0.4638\n",
      "[WDM] - Get LATEST driver version for 95.0.4638\n",
      "[WDM] - Driver [C:\\Users\\USER\\.wdm\\drivers\\chromedriver\\win32\\95.0.4638.69\\chromedriver.exe] found in cache\n",
      "[WDM] - \n",
      "\n",
      "[WDM] - ====== WebDriver manager ======\n",
      "[WDM] - Current google-chrome version is 95.0.4638\n",
      "[WDM] - Get LATEST driver version for 95.0.4638\n",
      "[WDM] - Driver [C:\\Users\\USER\\.wdm\\drivers\\chromedriver\\win32\\95.0.4638.69\\chromedriver.exe] found in cache\n",
      "[WDM] - \n",
      "\n",
      "[WDM] - ====== WebDriver manager ======\n",
      "[WDM] - Current google-chrome version is 95.0.4638\n",
      "[WDM] - Get LATEST driver version for 95.0.4638\n",
      "[WDM] - Driver [C:\\Users\\USER\\.wdm\\drivers\\chromedriver\\win32\\95.0.4638.69\\chromedriver.exe] found in cache\n",
      "[WDM] - \n",
      "\n",
      "[WDM] - ====== WebDriver manager ======\n",
      "[WDM] - Current google-chrome version is 95.0.4638\n",
      "[WDM] - Get LATEST driver version for 95.0.4638\n",
      "[WDM] - Driver [C:\\Users\\USER\\.wdm\\drivers\\chromedriver\\win32\\95.0.4638.69\\chromedriver.exe] found in cache\n",
      "[WDM] - \n",
      "\n",
      "[WDM] - ====== WebDriver manager ======\n",
      "[WDM] - Current google-chrome version is 95.0.4638\n",
      "[WDM] - Get LATEST driver version for 95.0.4638\n",
      "[WDM] - Driver [C:\\Users\\USER\\.wdm\\drivers\\chromedriver\\win32\\95.0.4638.69\\chromedriver.exe] found in cache\n"
     ]
    }
   ],
   "source": [
    "year = 2021\n",
    "month = 11\n",
    "day = 17\n",
    "hour = 12\n",
    "status_id = 'status_id'\n",
    "while True:\n",
    "    if hour == 24:\n",
    "        hour = 0\n",
    "        day += 1\n",
    "    if day == 31:\n",
    "        day = 1\n",
    "        month += 1\n",
    "    pause.until(datetime(year, month, day, hour, 5, 0))\n",
    "    url = 'https://xn--o39an51b2re.com/aio'\n",
    "    options = ChromeOptions()\n",
    "    options.add_argument('user-agent=Mozilla/5.0 (Windows NT 10.0; Win64; x64) AppleWebKit/537.36 (KHTML, like Gecko) Chrome/91.0.4472.124 Safari/537.36')\n",
    "    options.add_argument(\"--incognito\")\n",
    "    options.add_argument(\"headless\")\n",
    "    driver = Chrome(ChromeDriverManager().install(), options=options)\n",
    "    driver.get(url)\n",
    "    inputs = WebDriverWait(driver, 5).until(EC.presence_of_all_elements_located((By.CSS_SELECTOR, \"input[type=search]\")))\n",
    "    for i in inputs:\n",
    "        i.clear()\n",
    "        i.send_keys('singername')\n",
    "    dom = BeautifulSoup(driver.page_source, 'lxml')\n",
    "    div = dom.find_all('div', 'card-body')\n",
    "    post = ''\n",
    "    date = ('.').join([str(year), str(month), str(day)])+\" \" + str(hour)+'시'\n",
    "    post += date + \"\\n\\n\"\n",
    "    for i in range(1, len(div)):\n",
    "        title = re.findall(r'<td class=\"subject\"><p title=\"([\\d\\D\\s]+?)\">', str(div[i]))\n",
    "        if len(title) == 0:\n",
    "            title = re.findall(r'<td class=\"subject\"><p class=\"complete\" title=\"([\\d\\D\\s]+?)\">', str(div[i]))\n",
    "        chart = re.findall(r'<h4 class=\"card-title mb-3\">([\\d\\D\\s]+?)<!-- --> <!-- -->([\\d\\D\\s]+?)</h4>', str(div[i]))[0]\n",
    "        chart = ' '.join(chart)\n",
    "        if ((\"Melon TOP 100\" in chart) or (\"Melon 실시간 차트\" in chart)) and (len(title) == 0):\n",
    "            if \"Melon 차트아웃\\n\\n\" in post:\n",
    "                post += ''\n",
    "            else:\n",
    "                post += \"Melon 차트아웃\\n\\n\"\n",
    "            continue\n",
    "        if len(title) == 0:\n",
    "            if \"FLO\" in chart:\n",
    "                continue\n",
    "            else:\n",
    "                chart += \" 차트아웃\"\n",
    "        post += chart + \"\\n\\n\"\n",
    "        if \"Bugs 실시간 차트 차트아웃\\n\\n\" in post:\n",
    "            print(\"Done\")\n",
    "            break\n",
    "        rank = re.findall(r'<td class=\"ranking\"><p><span class=\"no([0-9]+?)\">', str(div[i]))\n",
    "        change = re.findall(r'<p class=\"change\"><span([\\d\\D\\s]+?)</span>', str(div[i]))\n",
    "        c = []\n",
    "        for i in change:\n",
    "            if \"-\" in i:\n",
    "                c.append(\"(-)\")\n",
    "            elif \"down\" in i:\n",
    "                c.append(\"(-\" + re.findall(r'([0-9]{1,2})', i)[0]+\")\")\n",
    "            elif \"up\" in i:\n",
    "                c.append(\"(+\" + re.findall(r'([0-9]{1,2})', i)[0]+\")\")\n",
    "        for n in range(len(title)):\n",
    "            post += title[n] + ' ' + rank[n] + '위 ' + c[n] + \"\\n\"\n",
    "        post += \"\\n\"\n",
    "    driver.close()\n",
    "    with open(\"twitter_token.json\") as f:\n",
    "        token = json.load(f)\n",
    "\n",
    "    auth = tweepy.OAuthHandler(token['consumer_key'], token['consumer_secret'])\n",
    "    auth.set_access_token(token['access_token'], token['access_token_secret'])\n",
    "    api = tweepy.API(auth)\n",
    "    posting = api.update_status(status=post, in_reply_to_status_id = status_id, auto_populate_reply_metadata=True)\n",
    "    status_id = posting.id\n",
    "    hour += 1"
   ]
  },
  {
   "cell_type": "code",
   "execution_count": null,
   "id": "3ba9df56",
   "metadata": {},
   "outputs": [],
   "source": []
  }
 ],
 "metadata": {
  "kernelspec": {
   "display_name": "Python 3 (ipykernel)",
   "language": "python",
   "name": "python3"
  },
  "language_info": {
   "codemirror_mode": {
    "name": "ipython",
    "version": 3
   },
   "file_extension": ".py",
   "mimetype": "text/x-python",
   "name": "python",
   "nbconvert_exporter": "python",
   "pygments_lexer": "ipython3",
   "version": "3.7.11"
  },
  "varInspector": {
   "cols": {
    "lenName": 16,
    "lenType": 16,
    "lenVar": 40
   },
   "kernels_config": {
    "python": {
     "delete_cmd_postfix": "",
     "delete_cmd_prefix": "del ",
     "library": "var_list.py",
     "varRefreshCmd": "print(var_dic_list())"
    },
    "r": {
     "delete_cmd_postfix": ") ",
     "delete_cmd_prefix": "rm(",
     "library": "var_list.r",
     "varRefreshCmd": "cat(var_dic_list()) "
    }
   },
   "types_to_exclude": [
    "module",
    "function",
    "builtin_function_or_method",
    "instance",
    "_Feature"
   ],
   "window_display": false
  }
 },
 "nbformat": 4,
 "nbformat_minor": 5
}
